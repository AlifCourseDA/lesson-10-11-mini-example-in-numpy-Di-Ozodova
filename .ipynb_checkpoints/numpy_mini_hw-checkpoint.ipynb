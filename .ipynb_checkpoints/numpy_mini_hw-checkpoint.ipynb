{
 "cells": [
  {
   "cell_type": "markdown",
   "metadata": {},
   "source": [
    "Simple NumPy exercises\n",
    "\n",
    "In this task you are practicing using NumPy in several applications."
   ]
  },
  {
   "cell_type": "markdown",
   "metadata": {},
   "source": [
    "## Task 1. Theoretical Part\n",
    "\n",
    "В **обязательном** порядке пройдитесь по задачам на kaggle и прорешайте сами \n",
    "\n",
    "https://www.kaggle.com/code/themlphdstudent/learn-numpy-numpy-50-exercises-and-solution"
   ]
  },
  {
   "cell_type": "markdown",
   "metadata": {},
   "source": [
    "## Task 2. Power of a matrix\n",
    "\n",
    "Write a function that would take in a matrix and a non-negative integer,\n",
    "check for that matrix is square, and return the power of the matrix computed through\n",
    "successive multiplication."
   ]
  },
  {
   "cell_type": "code",
   "execution_count": 13,
   "metadata": {
    "hide-output": false
   },
   "outputs": [
    {
     "name": "stdout",
     "output_type": "stream",
     "text": [
      "[[1 2 0]\n",
      " [0 2 3]\n",
      " [1 1 5]]\n"
     ]
    }
   ],
   "source": [
    "import numpy as np\n",
    "\n",
    "def matrix_power(mtrx,n=1):\n",
    "    if isinstance(n, int):\n",
    "        out = np.linalg.matrix_power(mtrx, n)\n",
    "    for i in mtrx:\n",
    "        if len(i) == len(mtrx):\n",
    "            pass\n",
    "        else:\n",
    "            return False\n",
    "    return out\n",
    "    \n",
    "A = np.array([[1,2,0],[0,2,3],[1,1,5]])\n",
    "print(matrix_power(A))"
   ]
  },
  {
   "cell_type": "markdown",
   "metadata": {},
   "source": [
    "Here are the tests to pass for your code (which are referred to as *unit tests*)"
   ]
  },
  {
   "cell_type": "code",
   "execution_count": 14,
   "metadata": {
    "hide-output": false
   },
   "outputs": [
    {
     "name": "stdout",
     "output_type": "stream",
     "text": [
      "Test 1 passed\n",
      "Test 2 passed\n",
      "Test 3 passed\n",
      "Test 4 FAIL\n"
     ]
    }
   ],
   "source": [
    "# Test the code above\n",
    "# you can read this section about try and except \n",
    "# https://education.yandex.ru/handbook/python/article/model-isklyuchenij-python-try-except-else-finally-moduli\n",
    "\n",
    "A = np.array([[1,2,0],[0,2,3],[1,1,5]])\n",
    "B = [[355,614,1806],[903,1565,4533],[1210,2113,6098]]\n",
    "eq=np.equal(matrix_power(A,5),B)\n",
    "if eq.all():\n",
    "    print('Test 1 passed')\n",
    "else:\n",
    "    print('Test 1 FAIL')\n",
    "\n",
    "\n",
    "A = [[1,2,0],[0,2,3],[1,1,5]]\n",
    "B = [[355,614,1806],[903,1565,4533],[1210,2113,6098]]\n",
    "eq=np.equal(matrix_power(A,5),B)\n",
    "if eq.all():\n",
    "    print('Test 2 passed')\n",
    "else:\n",
    "    print('Test 2 FAIL')\n",
    "\n",
    "\n",
    "try:\n",
    "    matrix_power([1],4.5)\n",
    "except TypeError:\n",
    "    print('Test 3 passed')\n",
    "except:\n",
    "    print('Test 3 FAIL')\n",
    "else:\n",
    "    print('Test 3 FAIL')\n",
    "\n",
    "try:\n",
    "    matrix_power([1],-5)\n",
    "except ValueError:\n",
    "    print('Test 4 passed')\n",
    "except:\n",
    "    print('Test 4 FAIL')\n",
    "else:\n",
    "    print('Test 4 FAIL')"
   ]
  },
  {
   "cell_type": "markdown",
   "metadata": {},
   "source": [
    "## Task 2. Autoregressive model in matrix form\n",
    "\n",
    "Consider the AR(1) model\n",
    "\n",
    "$$\n",
    "y_t = a y_{t-1} + \\varepsilon, \\; \\varepsilon \\sim N(0, 1).\n",
    "$$\n",
    "\n",
    "We can represent it in the form\n",
    "\n",
    "$$\n",
    "Ay = \\varepsilon \\quad \\quad \\varepsilon \\sim N(0, 1)\n",
    "$$\n",
    "\n",
    "where $ A $ is\n",
    "\n",
    "$$\n",
    "A = \\begin{bmatrix} 1  & 0 & \\cdots & 0 & 0  \\cr\n",
    "                      -a  & 1 & \\cdots & 0 & 0 \\cr\n",
    "                      \\vdots & \\vdots & \\cdots & \\vdots & \\vdots \\cr\n",
    "                      \\vdots & \\vdots & \\cdots & 1 & 0 \\cr\n",
    "                      0 & 0 & \\cdots & -a & 1 \\end{bmatrix}\n",
    "$$\n",
    "\n",
    "and $ y $ and $ \\varepsilon $ are $ (T x 1) $ vectors\n",
    "\n",
    "Generate an AR(1) series with $ T=500 $ and $ \\alpha = 0.9 $\n",
    "using matrix algebra, and make a plot of $ y_t $.\n",
    "\n",
    "Hint: use NumPy.eye() with additional arguments."
   ]
  },
  {
   "cell_type": "code",
   "execution_count": 22,
   "metadata": {
    "hide-output": false
   },
   "outputs": [
    {
     "name": "stderr",
     "output_type": "stream",
     "text": [
      "C:\\Users\\LENOVO\\AppData\\Local\\Temp\\ipykernel_7448\\4191534595.py:8: RuntimeWarning: divide by zero encountered in divide\n",
      "  y = ɛ / np.eye(T)\n"
     ]
    },
    {
     "data": {
      "image/png": "[encoded data removed]",
      "text/plain": [
       "<Figure size 640x480 with 1 Axes>"
      ]
     },
     "metadata": {},
     "output_type": "display_data"
    }
   ],
   "source": [
    "# replace @@@ by your code\n",
    "import numpy as np\n",
    "\n",
    "T = 500\n",
    "α = 0,9\n",
    "ɛ = np.random.randn(T)\n",
    "A = np.eye(T) + np.eye(T, k = -1)\n",
    "y = ɛ / np.eye(T)\n",
    "\n",
    "import matplotlib.pyplot as plt\n",
    "plt.plot(y)\n",
    "plt.title('Autoregressive model in matrix form')\n",
    "plt.xlabel('X') \n",
    "plt.ylabel('Y')\n",
    "plt.show()"
   ]
  },
  {
   "cell_type": "code",
   "execution_count": null,
   "metadata": {},
   "outputs": [],
   "source": []
  }
 ],
 "metadata": {
  "date": 1632755196.273495,
  "filename": "exercise06.rst",
  "kernelspec": {
   "display_name": "Python 3 (ipykernel)",
   "language": "python",
   "name": "python3"
  },
  "language_info": {
   "codemirror_mode": {
    "name": "ipython",
    "version": 3
   },
   "file_extension": ".py",
   "mimetype": "text/x-python",
   "name": "python",
   "nbconvert_exporter": "python",
   "pygments_lexer": "ipython3",
   "version": "3.11.5"
  },
  "title": "Weekly exercise 6: Simple NumPy exercises"
 },
 "nbformat": 4,
 "nbformat_minor": 4
}
